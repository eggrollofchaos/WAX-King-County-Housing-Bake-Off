{
 "cells": [
  {
   "cell_type": "code",
   "execution_count": 7,
   "metadata": {},
   "outputs": [],
   "source": [
    "# import pandas as pd\n",
    "# import numpy as np\n",
    "# import csv\n",
    "# from scipy import stats\n",
    "# from mpl_toolkits.mplot3d import Axes3D\n",
    "# from sklearn.metrics import mean_absolute_error, mean_squared_error, r2_score\n",
    "from sklearn.linear_model import LinearRegression\n",
    "from sklearn.preprocessing import PolynomialFeatures\n",
    "# from matplotlib import pyplot as plt\n",
    "# from matplotlib import ticker\n",
    "# import statsmodels.api as sm \n",
    "# import seaborn as sns\n",
    "import pickle"
   ]
  },
  {
   "cell_type": "code",
   "execution_count": 8,
   "metadata": {},
   "outputs": [
    {
     "ename": "NameError",
     "evalue": "name 'df_features' is not defined",
     "output_type": "error",
     "traceback": [
      "\u001b[0;31m---------------------------------------------------------------------------\u001b[0m",
      "\u001b[0;31mNameError\u001b[0m                                 Traceback (most recent call last)",
      "\u001b[0;32m<ipython-input-8-0359ad430047>\u001b[0m in \u001b[0;36m<module>\u001b[0;34m\u001b[0m\n\u001b[1;32m      1\u001b[0m \u001b[0mpoly_2\u001b[0m \u001b[0;34m=\u001b[0m \u001b[0mPolynomialFeatures\u001b[0m\u001b[0;34m(\u001b[0m\u001b[0mdegree\u001b[0m\u001b[0;34m=\u001b[0m\u001b[0;36m2\u001b[0m\u001b[0;34m,\u001b[0m \u001b[0minclude_bias\u001b[0m\u001b[0;34m=\u001b[0m\u001b[0;32mFalse\u001b[0m\u001b[0;34m)\u001b[0m\u001b[0;34m\u001b[0m\u001b[0;34m\u001b[0m\u001b[0m\n\u001b[0;32m----> 2\u001b[0;31m \u001b[0mpoly2_data\u001b[0m \u001b[0;34m=\u001b[0m \u001b[0mpoly_2\u001b[0m\u001b[0;34m.\u001b[0m\u001b[0mfit_transform\u001b[0m\u001b[0;34m(\u001b[0m\u001b[0mdf_features\u001b[0m\u001b[0;34m)\u001b[0m\u001b[0;34m\u001b[0m\u001b[0;34m\u001b[0m\u001b[0m\n\u001b[0m\u001b[1;32m      3\u001b[0m \u001b[0mpoly2_columns\u001b[0m \u001b[0;34m=\u001b[0m \u001b[0mpoly_2\u001b[0m\u001b[0;34m.\u001b[0m\u001b[0mget_feature_names\u001b[0m\u001b[0;34m(\u001b[0m\u001b[0mdf_features\u001b[0m\u001b[0;34m.\u001b[0m\u001b[0mcolumns\u001b[0m\u001b[0;34m)\u001b[0m\u001b[0;34m\u001b[0m\u001b[0;34m\u001b[0m\u001b[0m\n\u001b[1;32m      4\u001b[0m \u001b[0mdf_poly2\u001b[0m \u001b[0;34m=\u001b[0m \u001b[0mpd\u001b[0m\u001b[0;34m.\u001b[0m\u001b[0mDataFrame\u001b[0m\u001b[0;34m(\u001b[0m\u001b[0mpoly2_data\u001b[0m\u001b[0;34m,\u001b[0m \u001b[0mcolumns\u001b[0m\u001b[0;34m=\u001b[0m\u001b[0mpoly2_columns\u001b[0m\u001b[0;34m)\u001b[0m\u001b[0;34m\u001b[0m\u001b[0;34m\u001b[0m\u001b[0m\n\u001b[1;32m      5\u001b[0m \u001b[0mdf_poly2\u001b[0m\u001b[0;34m.\u001b[0m\u001b[0mhead\u001b[0m\u001b[0;34m(\u001b[0m\u001b[0;34m)\u001b[0m\u001b[0;34m\u001b[0m\u001b[0;34m\u001b[0m\u001b[0m\n",
      "\u001b[0;31mNameError\u001b[0m: name 'df_features' is not defined"
     ]
    }
   ],
   "source": [
    "df.isna().sum(); # there are no blank values\n",
    "\n",
    "# add features\n",
    "# add yard size\n",
    "df_test['sqft_yard'] = df_test.sqft_lot - df_test.sqft_above/df_test.floors\n",
    "\n",
    "# bathrooms\n",
    "df_test['no_bath'] = np.where(df_test.bathrooms == 0, 1, 0) # create new variable for has no bathroom\n",
    "\n",
    "# basements\n",
    "df_test['has_base'] = np.where(df_test.sqft_basement == 0, 0, 1) # create new variable for has basement\n",
    "\n",
    "# year built vs year renovated\n",
    "df_test['year'] = np.where(df_test.yr_renovated==0,df_test.yr_built,df_test.yr_renovated);\n",
    "df_test['reno'] = np.where(df_test.yr_renovated!=0, 1, 0) # create new variable for has been renovated\n",
    "\n",
    "# import dictionary of zips ranked from cheapest median home prices to most expensive\n",
    "with open('zip_ranks_cheapest_first.csv', newline='', encoding='utf-8-sig') as csv_file:\n",
    "    my_reader = csv.reader(csv_file)\n",
    "    zip_dict = {int(row[0]):int(row[1]) for row in my_reader}\n",
    "df['zip_rank'] = df.zipcode.map(zip_dict)\n",
    "\n",
    "# add a polynomial variable\n",
    "df_test['grade_2'] = df_test.grade^2 # grade has a strong correlation\n",
    "\n",
    "# create interaction variable\n",
    "df_test['living_bath'] = df_test.sqft_living*df_test.no_bath # having no bathroom makes it hard to live"
   ]
  },
  {
   "cell_type": "code",
   "execution_count": null,
   "metadata": {},
   "outputs": [],
   "source": []
  },
  {
   "cell_type": "code",
   "execution_count": null,
   "metadata": {},
   "outputs": [],
   "source": [
    "with open('housing_preds_wei_alex_xin.csv', mode = 'w') as csv_file:\n",
    "    cvs_writer = csv.writer(csv_file, delimiter = '\\n')\n",
    "    cvs_writer.writerow(price_pred_log)"
   ]
  }
 ],
 "metadata": {
  "kernelspec": {
   "display_name": "Python 3",
   "language": "python",
   "name": "python3"
  },
  "language_info": {
   "codemirror_mode": {
    "name": "ipython",
    "version": 3
   },
   "file_extension": ".py",
   "mimetype": "text/x-python",
   "name": "python",
   "nbconvert_exporter": "python",
   "pygments_lexer": "ipython3",
   "version": "3.8.3"
  }
 },
 "nbformat": 4,
 "nbformat_minor": 4
}
